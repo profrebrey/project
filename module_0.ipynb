{
 "cells": [
  {
   "cell_type": "code",
   "execution_count": 2,
   "metadata": {},
   "outputs": [],
   "source": [
    "import numpy as np\n",
    "\n",
    "def score_game(game_core):\n",
    "  count_ls=[]\n",
    "  np.random.seed(1)\n",
    "  random_array=np.random.randint(1,101,size=(1000))\n",
    "  for number in random_array:\n",
    "   count_ls.append(game_core(number))\n",
    "  score=int(np.mean(count_ls))\n",
    "  print(f\"Ваш алгоритм угадывает число в среднем за {score} попыток\")\n",
    "  return(score)"
   ]
  },
  {
   "cell_type": "code",
   "execution_count": 3,
   "metadata": {},
   "outputs": [
    {
     "name": "stdout",
     "output_type": "stream",
     "text": [
      "Ваш алгоритм угадывает число в среднем за 33 попыток\n"
     ]
    },
    {
     "data": {
      "text/plain": [
       "33"
      ]
     },
     "execution_count": 3,
     "metadata": {},
     "output_type": "execute_result"
    }
   ],
   "source": [
    "def game_core_v2(number):\n",
    "  count=1\n",
    "  predict=np.random.randint(1,101)\n",
    "  while number != predict:\n",
    "    count+=1\n",
    "    if number>predict:\n",
    "      predict+=1\n",
    "    elif number<predict:\n",
    "        predict-=1\n",
    "  return(count)\n",
    "\n",
    "score_game(game_core_v2)"
   ]
  },
  {
   "cell_type": "code",
   "execution_count": 2,
   "metadata": {},
   "outputs": [
    {
     "name": "stdout",
     "output_type": "stream",
     "text": [
      "Ваш алгоритм угадывает число в среднем за 6 попыток\n"
     ]
    },
    {
     "data": {
      "text/plain": [
       "6"
      ]
     },
     "execution_count": 2,
     "metadata": {},
     "output_type": "execute_result"
    }
   ],
   "source": [
    "import numpy as np\n",
    "\n",
    "def score_game(game_core):\n",
    "  count_ls=[]\n",
    "  np.random.seed(1)\n",
    "  random_array=np.random.randint(1,101,size=(1000))\n",
    "  for number in random_array:\n",
    "   count_ls.append(game_core(number))\n",
    "  score=int(np.mean(count_ls))\n",
    "  print(f\"Ваш алгоритм угадывает число в среднем за {score} попыток\")\n",
    "  return(score)\n",
    "\n",
    "def game_core_v3(number):\n",
    "    count=1\n",
    "    predict=np.random.randint(1,101)\n",
    "    low = 1\n",
    "    high = 100\n",
    "    while number!=predict:\n",
    "        if predict>number:\n",
    "            high=predict\n",
    "            predict=(low+high)//2\n",
    "            count+=1\n",
    "        else:\n",
    "            low=predict\n",
    "            predict=(low+high+1)//2\n",
    "            count+=1\n",
    "    return(count)\n",
    "\n",
    "score_game(game_core_v3)"
   ]
  },
  {
   "cell_type": "code",
   "execution_count": null,
   "metadata": {},
   "outputs": [],
   "source": []
  },
  {
   "cell_type": "code",
   "execution_count": null,
   "metadata": {},
   "outputs": [],
   "source": []
  }
 ],
 "metadata": {
  "kernelspec": {
   "display_name": "Python 3",
   "language": "python",
   "name": "python3"
  },
  "language_info": {
   "codemirror_mode": {
    "name": "ipython",
    "version": 3
   },
   "file_extension": ".py",
   "mimetype": "text/x-python",
   "name": "python",
   "nbconvert_exporter": "python",
   "pygments_lexer": "ipython3",
   "version": "3.8.3"
  }
 },
 "nbformat": 4,
 "nbformat_minor": 4
}
